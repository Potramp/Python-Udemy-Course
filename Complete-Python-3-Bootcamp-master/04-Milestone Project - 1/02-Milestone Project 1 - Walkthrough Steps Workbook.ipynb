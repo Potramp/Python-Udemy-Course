{
 "cells": [
  {
   "cell_type": "markdown",
   "metadata": {},
   "source": [
    "# Milestone Project 1: Walkthrough Steps Workbook\n",
    "\n",
    "Below is a set of steps for you to follow to try to create the Tic Tac Toe Milestone Project game!"
   ]
  },
  {
   "cell_type": "markdown",
   "metadata": {},
   "source": [
    "#### Some suggested tools before you get started:\n",
    "To take input from a user:\n",
    "\n",
    "    player1 = input(\"Please pick a marker 'X' or 'O'\")\n",
    "    \n",
    "Note that input() takes in a string. If you need an integer value, use\n",
    "\n",
    "    position = int(input('Please enter a number'))\n",
    "    \n",
    "<br>To clear the screen between moves:\n",
    "\n",
    "    from IPython.display import clear_output\n",
    "    clear_output()\n",
    "    \n",
    "Note that clear_output() will only work in jupyter. To clear the screen in other IDEs, consider:\n",
    "\n",
    "    print('\\n'*100)\n",
    "    \n",
    "This scrolls the previous board up out of view. Now on to the program!"
   ]
  },
  {
   "cell_type": "markdown",
   "metadata": {},
   "source": [
    "**Step 1: Write a function that can print out a board. Set up your board as a list, where each index 1-9 corresponds with a number on a number pad, so you get a 3 by 3 board representation.**"
   ]
  },
  {
   "cell_type": "code",
   "execution_count": 1,
   "metadata": {},
   "outputs": [],
   "source": [
    "from IPython.display import clear_output\n",
    "import numpy as np\n",
    "\n",
    "def display_board(board):\n",
    "    table = '''\n",
    "            {:^}  | {:^} | {:^}\n",
    "            ___|___|___\n",
    "            {}  | {} | {}\n",
    "            ___|___|___\n",
    "            {}  | {} | {}\n",
    "               |   |   \\n\n",
    "    \n",
    "    '''\n",
    "    return print(table.format(board[1], board[2], board[3], board[4], board[5], board[6], board[7], board[8], board[9] ))\n",
    "    \n",
    "    #pass"
   ]
  },
  {
   "cell_type": "markdown",
   "metadata": {},
   "source": [
    "**TEST Step 1:** run your function on a test version of the board list, and make adjustments as necessary"
   ]
  },
  {
   "cell_type": "code",
   "execution_count": 2,
   "metadata": {},
   "outputs": [
    {
     "name": "stdout",
     "output_type": "stream",
     "text": [
      "\n",
      "            X  | O | X\n",
      "            ___|___|___\n",
      "            O  | X | O\n",
      "            ___|___|___\n",
      "            X  | O | X\n",
      "               |   |   \n",
      "\n",
      "    \n",
      "    \n"
     ]
    }
   ],
   "source": [
    "test_board = ['#','X','O','X','O','X','O','X','O','X']\n",
    "display_board(test_board)"
   ]
  },
  {
   "cell_type": "markdown",
   "metadata": {},
   "source": [
    "**Step 2: Write a function that can take in a player input and assign their marker as 'X' or 'O'. Think about using *while* loops to continually ask until you get a correct answer.**"
   ]
  },
  {
   "cell_type": "code",
   "execution_count": 3,
   "metadata": {},
   "outputs": [],
   "source": [
    "def player_input():\n",
    "    ## I THINK I MIGHT NEED THIS FOR THE FIRST ONE\n",
    "    marker = int(input('Please enter 1 for X and 0 for O\\n'))\n",
    "    \n",
    "    ## I'M DECLARING THIS VARIBLE HERE TO BE A RECORD OF VALID MARKERS SO I CAN PRINT THEM LATER\n",
    "    stmarker = 'OX'\n",
    "    \n",
    "    ## I'M NOT VERY CONFIDENT WITH WHILE LOOPS\n",
    "    while marker != 0 and marker != 1:\n",
    "        print('Please, enter a valid marker...')\n",
    "        marker = int(input('Please enter 1 for X and 0 for O\\n'))\n",
    "    else:\n",
    "        print('Okay, you chose {}'.format(stmarker[marker]))\n",
    "    return stmarker[marker]\n",
    "    #pass"
   ]
  },
  {
   "cell_type": "markdown",
   "metadata": {},
   "source": [
    "**TEST Step 2:** run the function to make sure it returns the desired output"
   ]
  },
  {
   "cell_type": "code",
   "execution_count": 4,
   "metadata": {},
   "outputs": [
    {
     "name": "stdout",
     "output_type": "stream",
     "text": [
      "Please enter 1 for X and 0 for O\n",
      "1\n",
      "Okay, you chose X\n"
     ]
    },
    {
     "data": {
      "text/plain": [
       "'X'"
      ]
     },
     "execution_count": 4,
     "metadata": {},
     "output_type": "execute_result"
    }
   ],
   "source": [
    "player_input()"
   ]
  },
  {
   "cell_type": "markdown",
   "metadata": {},
   "source": [
    "**Step 3: Write a function that takes in the board list object, a marker ('X' or 'O'), and a desired position (number 1-9) and assigns it to the board.**"
   ]
  },
  {
   "cell_type": "code",
   "execution_count": 5,
   "metadata": {},
   "outputs": [],
   "source": [
    "def place_marker(board, marker, position):\n",
    "    \n",
    "    #myboard['boardkey'] = {board}\n",
    "    #myboard['key0'] = []\n",
    "    #myboard['key1'] = []\n",
    "    #myboard['key2'] = []\n",
    "    #myboard['key3'] = []\n",
    "    #myboard['key4'] = []\n",
    "    #myboard['key5'] = []\n",
    "    #myboard['key6'] = []\n",
    "    #myboard['key7'] = []\n",
    "    #myboard['key8'] = []\n",
    "    #myboard['key9'] = []\n",
    "    \n",
    "    #-.-.-.-.-.-.-.-.-.-.-.-.-.-.-.-.-.-.-.-.-.-.-.-.-.-.\n",
    "    ## THIS IS THE MOST DIRECT WAY TO DO IT\n",
    "    ## I HAVE ONLY A FEW ITEMS TO RUN\n",
    "    #if position == 1:\n",
    "    #    board[0] = marker\n",
    "    #elif position == 2:\n",
    "    #    board[1] = marker\n",
    "    #elif position == 3:\n",
    "    #    board[2] = marker\n",
    "    #elif position == 4:\n",
    "    #    board[3] = marker\n",
    "    #elif position == 5:\n",
    "    #    board[4] = marker\n",
    "    #elif position == 6:\n",
    "    #    board[5] = marker\n",
    "    #elif position == 7:\n",
    "    #    board[6] = marker\n",
    "    #elif position == 8:\n",
    "    #    board[7] = marker\n",
    "    #elif position == 9:\n",
    "    #    board[8] = marker\n",
    "    #-.-.-.-.-.-.-.-.-.-.-.-.-.-.-.-.-.-.-.-.-.-.-.-.-.-.\n",
    "    ## THIS IS A MORE ITERATIVE WAY OF DOING IT I'M GONNA TRY\n",
    "    ## USE UPPER ONE IF THIS BREAKS\n",
    "    \n",
    "    expectedpos = 1\n",
    "    while position != expectedpos:\n",
    "        expectedpos += 1\n",
    "    #else:\n",
    "    # I DONT NEED THE ELSE HERE SO   \n",
    "    board[expectedpos] = marker\n",
    "    \n",
    "    #pass"
   ]
  },
  {
   "cell_type": "markdown",
   "metadata": {},
   "source": [
    "**TEST Step 3:** run the place marker function using test parameters and display the modified board"
   ]
  },
  {
   "cell_type": "code",
   "execution_count": 6,
   "metadata": {},
   "outputs": [
    {
     "name": "stdout",
     "output_type": "stream",
     "text": [
      "\n",
      "            X  | O | X\n",
      "            ___|___|___\n",
      "            O  | X | O\n",
      "            ___|___|___\n",
      "            X  | $ | X\n",
      "               |   |   \n",
      "\n",
      "    \n",
      "    \n"
     ]
    }
   ],
   "source": [
    "place_marker(test_board,'$',8)\n",
    "display_board(test_board)"
   ]
  },
  {
   "cell_type": "markdown",
   "metadata": {},
   "source": [
    "**Step 4: Write a function that takes in a board and a mark (X or O) and then checks to see if that mark has won. **"
   ]
  },
  {
   "cell_type": "code",
   "execution_count": 7,
   "metadata": {},
   "outputs": [],
   "source": [
    "def win_check(board, mark):\n",
    "    \n",
    "    #----------------------------------------------------------------------------------------------\n",
    "    # IF ALL GOES SOUTH AND I FIND NO PATTERN I'LL JUST DO IT MANUALLY\n",
    "    #----------------------------------------------------------------------------------------------\n",
    "    ### WINNING ON BOARD[1]\n",
    "    #if board[1] == mark:\n",
    "        ## WINNING HORIZONTAL\n",
    "    #    if board[1] == board[2]  and board[2] == board[3]:\n",
    "    #        win = TRUE\n",
    "    #    ## WINNING VERTICAL    \n",
    "    #    elif board[1] == board [4] and board[7]\n",
    "    #        win = TRUE \n",
    "    #    elif board[1] == board[5] and board[1] == board[9]\n",
    "    #        win = TRUE\n",
    "    #elif board[4] == mark and board[4] == board[5]  and board[4] == board[6]:\n",
    "    #    win = TRUE\n",
    "    #elif board[1] == mark and board[1] == board[2]  and board[2] == board[3]:\n",
    "    #    win = TRUE\n",
    "    #elif board\n",
    "    \n",
    "    #-.-.-.-.-.-.-.-.-.-.-.-.-.-.-.-.-.-.-.-.-.-.-.-.-.-.-.-.-.-.-.-.-.-.-.-.-\n",
    "    \n",
    "    #%%%%%%%%%%%%%%%%%%%%%%%%%%%%%%%%%%%%%%%%%%- ODDS OR EVENS -%%%%%%%%%%%%%%%%%%%%%%%%%%%%%%%%%%%%%%%%%%%%\n",
    "    ##-----------------------------------------------------------------------\n",
    "    # IT SEEMS THAT THERE IS A PATTERN TO HOW A GAME CAN BE WON BASED ON ODDS OR EVENS\n",
    "    # I WILL TRY TO USE THIS AS A TESTED CONDITION TO SEE IF I CAN MAKE IT WORK\n",
    "    ##-----------------------------------------------------------------------\n",
    "    \n",
    "    ### A BOARD LOOKS LIKE:\n",
    "    #        X  | O | X\n",
    "    #        ___|___|___\n",
    "    #        O  | X | O\n",
    "    #        ___|___|___\n",
    "    #        X  | $ | X\n",
    "    #           |   |   \n",
    "    \n",
    "    \n",
    "    ## I'LL USE A WHILE LOOP SO I NEED A CONDITION TO LEAVE. I'LL USE A COUNTER\n",
    "    ### THIS COUNTER STARTS WITH 1 BECAUSED I NAMED THE SLOTS STARTING ON 1 NOT 0\n",
    "    #%%%%%%%%%%%%%%%%%%%%%%%%%%%%%%%%%%%%%%%%%%%%%%%%%%%%%%%%%%%%%%%%%%%%%%%%%%%%%%%%%%%%%%%%%%%%%%%%%%%%%%%\n",
    "    \n",
    "    #%%%%%%%%%%%%%%%%%%%%%%%%%%%%%%%%%%%%%%%%- HORIZ VERT CROSS -%%%%%%%%%%%%%%%%%%%%%%%%%%%%%%%%%%%%%%%%%%%\n",
    "    ## WINNING HORIZONTAL\n",
    "    # ---------------------------------------------------------------------\n",
    "    ## THIS WILL REGISTER THE WINNING MARKER TO CHECK AGAINST THE USED ONE\n",
    "    markused = []\n",
    "    win = False\n",
    "    if board[1] == mark and board[2] == mark and board[3] == mark:\n",
    "        win = True\n",
    "        markused = board[1]\n",
    "    elif board[4] == mark and  board[5] == mark and  board[6] == mark:\n",
    "        win = True\n",
    "        markused = board[4]\n",
    "    elif board[7] == mark and  board[8] == mark and  board[9] == mark:\n",
    "        win = True\n",
    "        markused = board[7]\n",
    "    #----------------------------------------------------------------------\n",
    "    ## WINNING VERTICAL\n",
    "    elif board[1] == mark and  board[4] == mark and  board[7] == mark:\n",
    "        win = True\n",
    "        markused = board[1]\n",
    "    elif board[2] == mark and  board[5] == mark and  board[6] == mark:\n",
    "        win = True\n",
    "        markused = board[2]\n",
    "    elif board[7] == mark and  board[8] == mark and  board[9] == mark:\n",
    "        win = True\n",
    "        markused = board[7]\n",
    "    #----------------------------------------------------------------------\n",
    "    ## WINNING DIAGONALY\n",
    "    elif board[1] == mark and  board[5] == mark and  board[9] == mark:\n",
    "        win = True\n",
    "        markused = board[1]\n",
    "    elif board[3] == mark and  board[5] == mark and  board[7] == mark:\n",
    "        win = True\n",
    "        markused = board[3]\n",
    "    if win == True:\n",
    "        print('Marker {} won!!'.format(mark))\n",
    "    return win #and (markused == mark)\n",
    "    #%%%%%%%%%%%%%%%%%%%%%%%%%%%%%%%%%%%%%%%%%%%%%%%%%%%%%%%%%%%%%%%%%%%%%%%%%%%%%%%%%%%%%%%%%%%%%%%%%%%%%%%\n",
    "    #return win"
   ]
  },
  {
   "cell_type": "markdown",
   "metadata": {},
   "source": [
    "**TEST Step 4:** run the win_check function against our test_board - it should return True"
   ]
  },
  {
   "cell_type": "code",
   "execution_count": 8,
   "metadata": {},
   "outputs": [
    {
     "name": "stdout",
     "output_type": "stream",
     "text": [
      "Marker X won!!\n"
     ]
    },
    {
     "data": {
      "text/plain": [
       "True"
      ]
     },
     "execution_count": 8,
     "metadata": {},
     "output_type": "execute_result"
    }
   ],
   "source": [
    "win_check(test_board,'X')"
   ]
  },
  {
   "cell_type": "markdown",
   "metadata": {},
   "source": [
    "**Step 5: Write a function that uses the random module to randomly decide which player goes first. You may want to lookup random.randint() Return a string of which player went first.**"
   ]
  },
  {
   "cell_type": "code",
   "execution_count": 9,
   "metadata": {},
   "outputs": [],
   "source": [
    "import random\n",
    "\n",
    "def choose_first():\n",
    "    print(\"Let's decide who goes first...\\n\")\n",
    "    player = random.randint(1,2)\n",
    "    print(\"Player {} goes firsyt!\".format(player))\n",
    "    return player"
   ]
  },
  {
   "cell_type": "markdown",
   "metadata": {},
   "source": [
    "**Step 6: Write a function that returns a boolean indicating whether a space on the board is freely available.**"
   ]
  },
  {
   "cell_type": "code",
   "execution_count": 10,
   "metadata": {},
   "outputs": [],
   "source": [
    "def space_check(board, position):\n",
    "    vacant = None\n",
    "    if position > len(board) or position < 0:\n",
    "        return False\n",
    "    \n",
    "    spot = board[position]\n",
    "    if spot == '':\n",
    "        print(\"You can play on {} alright!\\n\".format(position))\n",
    "        vacant = True\n",
    "    else:# spot != '' and spot == position:\n",
    "        print(\"GOTCHA! No cheating... chose another slot, please...\\n\")\n",
    "        vacant = False\n",
    "    \n",
    "    return vacant"
   ]
  },
  {
   "cell_type": "markdown",
   "metadata": {},
   "source": [
    "**Step 7: Write a function that checks if the board is full and returns a boolean value. True if full, False otherwise.**"
   ]
  },
  {
   "cell_type": "code",
   "execution_count": 11,
   "metadata": {},
   "outputs": [],
   "source": [
    "def full_board_check(board):\n",
    "    #### BOARD SHOULD BE:\n",
    "    #### board = [None, None, None, None, None, None, None, None, None]\n",
    "    for index in range(1,10):\n",
    "        if board[index] == '':\n",
    "            return False\n",
    "    print(\"Full board!\")\n",
    "    return True\n",
    "        \n",
    "    \n",
    "    #pass"
   ]
  },
  {
   "cell_type": "markdown",
   "metadata": {},
   "source": [
    "**Step 8: Write a function that asks for a player's next position (as a number 1-9) and then uses the function from step 6 to check if it's a free position. If it is, then return the position for later use.**"
   ]
  },
  {
   "cell_type": "code",
   "execution_count": 12,
   "metadata": {},
   "outputs": [],
   "source": [
    "def player_choice(board):\n",
    "    ## TO START\n",
    "    position = input('Chose a position (1-9) to place your mark')\n",
    "    if not np.char.isnumeric(position):\n",
    "        position = 99\n",
    "    else:\n",
    "        position = int(position)\n",
    "    \n",
    "    ## SHOULD GO UNTIL VALID IS CHOSEN\n",
    "    while not space_check(board, position):\n",
    "        print(\"Caught cheating huh? try again...\\n\")\n",
    "        position = int(input('Chose a position (1-9) to place your mark'))\n",
    "        continue\n",
    "    \n",
    "    return position\n",
    "        \n",
    "    "
   ]
  },
  {
   "cell_type": "markdown",
   "metadata": {},
   "source": [
    "**Step 9: Write a function that asks the player if they want to play again and returns a boolean True if they do want to play again.**"
   ]
  },
  {
   "cell_type": "code",
   "execution_count": 13,
   "metadata": {},
   "outputs": [],
   "source": [
    "def replay():\n",
    "    answer = input('Do you want to play again? Yes (y) or no (n)')\n",
    "    return answer == 'y'"
   ]
  },
  {
   "cell_type": "markdown",
   "metadata": {
    "collapsed": true
   },
   "source": [
    "**Step 10: Here comes the hard part! Use while loops and the functions you've made to run the game!**"
   ]
  },
  {
   "cell_type": "code",
   "execution_count": null,
   "metadata": {},
   "outputs": [
    {
     "name": "stdout",
     "output_type": "stream",
     "text": [
      "Welcome to Tic Tac Toe!\n",
      "Let's decide who goes first...\n",
      "\n",
      "Player 1 goes firsyt!\n",
      "Please enter 1 for X and 0 for O\n",
      "1\n",
      "Okay, you chose X\n",
      "Player 1 is playing with marker X\n",
      "\n",
      "              |  | \n",
      "            ___|___|___\n",
      "              |  | \n",
      "            ___|___|___\n",
      "              |  | \n",
      "               |   |   \n",
      "\n",
      "    \n",
      "    \n",
      "Chose a position (1-9) to place your mark1\n",
      "You can play on 1 alright!\n",
      "\n",
      "Player 2 is playing with marker O\n",
      "\n",
      "            X  |  | \n",
      "            ___|___|___\n",
      "              |  | \n",
      "            ___|___|___\n",
      "              |  | \n",
      "               |   |   \n",
      "\n",
      "    \n",
      "    \n",
      "Chose a position (1-9) to place your mark1\n",
      "GOTCHA! No cheating... chose another slot, please...\n",
      "\n",
      "Caught cheating huh? try again...\n",
      "\n",
      "Chose a position (1-9) to place your mark2\n",
      "You can play on 2 alright!\n",
      "\n",
      "Player 1 is playing with marker X\n",
      "\n",
      "            X  | O | \n",
      "            ___|___|___\n",
      "              |  | \n",
      "            ___|___|___\n",
      "              |  | \n",
      "               |   |   \n",
      "\n",
      "    \n",
      "    \n"
     ]
    }
   ],
   "source": [
    "print('Welcome to Tic Tac Toe!')\n",
    "\n",
    "#board = [None, None, None, None, None, None, None, None, None, None]\n",
    "while True:\n",
    "    board = ['', '', '', '', '', '', '', '', '', '']\n",
    "    round = 0\n",
    "    \n",
    "    while True:\n",
    "        if round == 0:\n",
    "            current_player = choose_first()\n",
    "            if current_player == 1:\n",
    "                next_player = 2\n",
    "            else:\n",
    "                next_player = 1\n",
    "            # THIS IS THE 1ST PLAYER MARKER CHOSEN\n",
    "            current_marker = player_input()\n",
    "            if current_marker == 'X':\n",
    "                next_marker = \"O\"\n",
    "            else:\n",
    "                next_marker = 'X'\n",
    "        else:\n",
    "            #SWAP PLAYERS FOR NEXT TURN\n",
    "            current_player, next_player = next_player, current_player\n",
    "            current_marker, next_marker = next_marker, current_marker\n",
    "        print('Player {} is playing with marker {}'.format(current_player, current_marker))\n",
    "        \n",
    "        display_board(board)\n",
    "        position = player_choice(board)\n",
    "        place_marker(board,current_marker,position)\n",
    "        \n",
    "    \n",
    "        \n",
    "        \n",
    "        \n",
    "        round +=1\n",
    "        if win_check(board, 'X') or win_check(board, 'O') or full_board_check(board):\n",
    "            display_board(board)\n",
    "            break\n",
    "\n",
    "    if not replay():\n",
    "        break"
   ]
  },
  {
   "cell_type": "markdown",
   "metadata": {
    "collapsed": true
   },
   "source": [
    "## Good Job!"
   ]
  }
 ],
 "metadata": {
  "kernelspec": {
   "display_name": "Python 3",
   "language": "python",
   "name": "python3"
  }
 },
 "nbformat": 4,
 "nbformat_minor": 1
}
